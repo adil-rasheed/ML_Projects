{
 "cells": [
  {
   "cell_type": "markdown",
   "metadata": {},
   "source": [
    "Import dependencies"
   ]
  },
  {
   "cell_type": "code",
   "execution_count": 1,
   "metadata": {
    "collapsed": false
   },
   "outputs": [],
   "source": [
    "import numpy as np \n",
    "import pandas as pd \n",
    "import csv"
   ]
  },
  {
   "cell_type": "markdown",
   "metadata": {},
   "source": [
    "Import the file containing the location data of all the sensors (cycles + cars). The file aurrently has only the location data of sensors counting cars."
   ]
  },
  {
   "cell_type": "code",
   "execution_count": 2,
   "metadata": {
    "collapsed": false
   },
   "outputs": [
    {
     "data": {
      "text/html": [
       "<div>\n",
       "<table border=\"1\" class=\"dataframe\">\n",
       "  <thead>\n",
       "    <tr style=\"text-align: right;\">\n",
       "      <th></th>\n",
       "      <th>SENSOR_ID</th>\n",
       "      <th>SENSOR_NAVN</th>\n",
       "      <th>LATITUDE</th>\n",
       "      <th>LONGITUDE</th>\n",
       "      <th>STREKNING_NAVN</th>\n",
       "      <th>FORMAT</th>\n",
       "      <th>SENSOR_STATUS</th>\n",
       "      <th>SENSOR_TYPE</th>\n",
       "      <th>OPPLOSNING</th>\n",
       "    </tr>\n",
       "  </thead>\n",
       "  <tbody>\n",
       "    <tr>\n",
       "      <th>0</th>\n",
       "      <td>300022</td>\n",
       "      <td>Klemetsrud</td>\n",
       "      <td>6639461.0</td>\n",
       "      <td>267073.16</td>\n",
       "      <td>EV6 HP 1 Meter 1191</td>\n",
       "      <td>Datainn</td>\n",
       "      <td>Ute av drift</td>\n",
       "      <td>Bil</td>\n",
       "      <td>Enkeltkjøret</td>\n",
       "    </tr>\n",
       "    <tr>\n",
       "      <th>1</th>\n",
       "      <td>300025</td>\n",
       "      <td>Granfoss NORD</td>\n",
       "      <td>6651245.5</td>\n",
       "      <td>257096.33</td>\n",
       "      <td>RV150 HP 1 Meter 12178</td>\n",
       "      <td>Nortraf</td>\n",
       "      <td>Ute av drift</td>\n",
       "      <td>Bil</td>\n",
       "      <td>15 minutter</td>\n",
       "    </tr>\n",
       "    <tr>\n",
       "      <th>2</th>\n",
       "      <td>300026</td>\n",
       "      <td>Påkj granfoss Nord</td>\n",
       "      <td>6651222.5</td>\n",
       "      <td>257081.31</td>\n",
       "      <td>RV150 HP 92 Meter 21222</td>\n",
       "      <td>Nortraf</td>\n",
       "      <td>Ute av drift</td>\n",
       "      <td>Bil</td>\n",
       "      <td>15 minutter</td>\n",
       "    </tr>\n",
       "    <tr>\n",
       "      <th>3</th>\n",
       "      <td>300027</td>\n",
       "      <td>Avkj Granfoss nord</td>\n",
       "      <td>6651241.5</td>\n",
       "      <td>257070.92</td>\n",
       "      <td>RV150 HP 92 Meter 12020</td>\n",
       "      <td>Nortraf</td>\n",
       "      <td>Ute av drift</td>\n",
       "      <td>Bil</td>\n",
       "      <td>15 minutter</td>\n",
       "    </tr>\n",
       "    <tr>\n",
       "      <th>4</th>\n",
       "      <td>300038</td>\n",
       "      <td>VESTBANEKRYSSET</td>\n",
       "      <td>6649293.5</td>\n",
       "      <td>261140.28</td>\n",
       "      <td>EV18 HP 94 Meter 14680</td>\n",
       "      <td>Nortraf</td>\n",
       "      <td>Ute av drift</td>\n",
       "      <td>Bil</td>\n",
       "      <td>15 minutter</td>\n",
       "    </tr>\n",
       "  </tbody>\n",
       "</table>\n",
       "</div>"
      ],
      "text/plain": [
       "   SENSOR_ID         SENSOR_NAVN   LATITUDE  LONGITUDE  \\\n",
       "0     300022          Klemetsrud  6639461.0  267073.16   \n",
       "1     300025       Granfoss NORD  6651245.5  257096.33   \n",
       "2     300026  Påkj granfoss Nord  6651222.5  257081.31   \n",
       "3     300027  Avkj Granfoss nord  6651241.5  257070.92   \n",
       "4     300038     VESTBANEKRYSSET  6649293.5  261140.28   \n",
       "\n",
       "            STREKNING_NAVN   FORMAT SENSOR_STATUS SENSOR_TYPE    OPPLOSNING  \n",
       "0      EV6 HP 1 Meter 1191  Datainn  Ute av drift         Bil  Enkeltkjøret  \n",
       "1   RV150 HP 1 Meter 12178  Nortraf  Ute av drift         Bil   15 minutter  \n",
       "2  RV150 HP 92 Meter 21222  Nortraf  Ute av drift         Bil   15 minutter  \n",
       "3  RV150 HP 92 Meter 12020  Nortraf  Ute av drift         Bil   15 minutter  \n",
       "4   EV18 HP 94 Meter 14680  Nortraf  Ute av drift         Bil   15 minutter  "
      ]
     },
     "execution_count": 2,
     "metadata": {},
     "output_type": "execute_result"
    }
   ],
   "source": [
    "location_data = pd.read_csv('tellepunkter.csv',sep=',')\n",
    "#Look into the format of the imported data\n",
    "location_data.head()"
   ]
  },
  {
   "cell_type": "markdown",
   "metadata": {},
   "source": [
    "Import the car, cycle and met data"
   ]
  },
  {
   "cell_type": "code",
   "execution_count": 3,
   "metadata": {
    "collapsed": false
   },
   "outputs": [
    {
     "name": "stdout",
     "output_type": "stream",
     "text": [
      "Rows in car data  101669\n"
     ]
    },
    {
     "data": {
      "text/html": [
       "<div>\n",
       "<table border=\"1\" class=\"dataframe\">\n",
       "  <thead>\n",
       "    <tr style=\"text-align: right;\">\n",
       "      <th></th>\n",
       "      <th>SENSOR_ID</th>\n",
       "      <th>YEAR</th>\n",
       "      <th>MONTH</th>\n",
       "      <th>DAY</th>\n",
       "      <th>STARTHOUR</th>\n",
       "      <th>DIRECTION</th>\n",
       "      <th>RESOLUTION</th>\n",
       "      <th>SUM</th>\n",
       "      <th>AVGSPEED</th>\n",
       "    </tr>\n",
       "  </thead>\n",
       "  <tbody>\n",
       "    <tr>\n",
       "      <th>0</th>\n",
       "      <td>300016</td>\n",
       "      <td>2015</td>\n",
       "      <td>2</td>\n",
       "      <td>1</td>\n",
       "      <td>0</td>\n",
       "      <td>1</td>\n",
       "      <td>HOURLY</td>\n",
       "      <td>381</td>\n",
       "      <td>74.104986</td>\n",
       "    </tr>\n",
       "    <tr>\n",
       "      <th>1</th>\n",
       "      <td>300016</td>\n",
       "      <td>2015</td>\n",
       "      <td>2</td>\n",
       "      <td>1</td>\n",
       "      <td>1</td>\n",
       "      <td>1</td>\n",
       "      <td>HOURLY</td>\n",
       "      <td>284</td>\n",
       "      <td>74.419014</td>\n",
       "    </tr>\n",
       "    <tr>\n",
       "      <th>2</th>\n",
       "      <td>300016</td>\n",
       "      <td>2015</td>\n",
       "      <td>2</td>\n",
       "      <td>1</td>\n",
       "      <td>2</td>\n",
       "      <td>1</td>\n",
       "      <td>HOURLY</td>\n",
       "      <td>165</td>\n",
       "      <td>73.666666</td>\n",
       "    </tr>\n",
       "    <tr>\n",
       "      <th>3</th>\n",
       "      <td>300016</td>\n",
       "      <td>2015</td>\n",
       "      <td>2</td>\n",
       "      <td>1</td>\n",
       "      <td>3</td>\n",
       "      <td>1</td>\n",
       "      <td>HOURLY</td>\n",
       "      <td>98</td>\n",
       "      <td>74.846938</td>\n",
       "    </tr>\n",
       "    <tr>\n",
       "      <th>4</th>\n",
       "      <td>300016</td>\n",
       "      <td>2015</td>\n",
       "      <td>2</td>\n",
       "      <td>1</td>\n",
       "      <td>4</td>\n",
       "      <td>1</td>\n",
       "      <td>HOURLY</td>\n",
       "      <td>87</td>\n",
       "      <td>77.517241</td>\n",
       "    </tr>\n",
       "  </tbody>\n",
       "</table>\n",
       "</div>"
      ],
      "text/plain": [
       "   SENSOR_ID  YEAR  MONTH  DAY  STARTHOUR  DIRECTION RESOLUTION  SUM  \\\n",
       "0     300016  2015      2    1          0          1    HOURLY   381   \n",
       "1     300016  2015      2    1          1          1    HOURLY   284   \n",
       "2     300016  2015      2    1          2          1    HOURLY   165   \n",
       "3     300016  2015      2    1          3          1    HOURLY    98   \n",
       "4     300016  2015      2    1          4          1    HOURLY    87   \n",
       "\n",
       "    AVGSPEED   \n",
       "0   74.104986  \n",
       "1   74.419014  \n",
       "2   73.666666  \n",
       "3   74.846938  \n",
       "4   77.517241  "
      ]
     },
     "execution_count": 3,
     "metadata": {},
     "output_type": "execute_result"
    }
   ],
   "source": [
    "car_data = pd.read_csv('car_feb2015_feb2016.csv',sep=';')\n",
    "print(\"Rows in car data \",len(car_data))\n",
    "car_data.head()"
   ]
  },
  {
   "cell_type": "code",
   "execution_count": 4,
   "metadata": {
    "collapsed": false
   },
   "outputs": [],
   "source": [
    "#for sensor_id in list(car_data['SENSOR_ID'].unique()):\n",
    "#    print(sensor_id)\n",
    "#Only retain the relevant sensor data location\n",
    "location_data = location_data[(location_data.SENSOR_ID==300016)| (location_data.SENSOR_ID==300083)| \n",
    "                              (location_data.SENSOR_ID==300099)| (location_data.SENSOR_ID==300233)| \n",
    "                              (location_data.SENSOR_ID==302257)]"
   ]
  },
  {
   "cell_type": "code",
   "execution_count": 5,
   "metadata": {
    "collapsed": false
   },
   "outputs": [
    {
     "name": "stdout",
     "output_type": "stream",
     "text": [
      "Rows in cycle data  868084\n"
     ]
    },
    {
     "data": {
      "text/html": [
       "<div>\n",
       "<table border=\"1\" class=\"dataframe\">\n",
       "  <thead>\n",
       "    <tr style=\"text-align: right;\">\n",
       "      <th></th>\n",
       "      <th>SENSOR_ID</th>\n",
       "      <th>TIME</th>\n",
       "      <th>LANE</th>\n",
       "      <th>SUM</th>\n",
       "      <th>RESOLUTION</th>\n",
       "    </tr>\n",
       "  </thead>\n",
       "  <tbody>\n",
       "    <tr>\n",
       "      <th>0</th>\n",
       "      <td>10000010</td>\n",
       "      <td>2015-02-01T00:00:00</td>\n",
       "      <td>99.0</td>\n",
       "      <td>5.0</td>\n",
       "      <td>HOURLY</td>\n",
       "    </tr>\n",
       "    <tr>\n",
       "      <th>1</th>\n",
       "      <td>10000010</td>\n",
       "      <td>2015-02-01T01:00:00</td>\n",
       "      <td>99.0</td>\n",
       "      <td>2.0</td>\n",
       "      <td>HOURLY</td>\n",
       "    </tr>\n",
       "    <tr>\n",
       "      <th>2</th>\n",
       "      <td>10000010</td>\n",
       "      <td>2015-02-01T02:00:00</td>\n",
       "      <td>99.0</td>\n",
       "      <td>6.0</td>\n",
       "      <td>HOURLY</td>\n",
       "    </tr>\n",
       "    <tr>\n",
       "      <th>3</th>\n",
       "      <td>10000010</td>\n",
       "      <td>2015-02-01T03:00:00</td>\n",
       "      <td>99.0</td>\n",
       "      <td>5.0</td>\n",
       "      <td>HOURLY</td>\n",
       "    </tr>\n",
       "    <tr>\n",
       "      <th>4</th>\n",
       "      <td>10000010</td>\n",
       "      <td>2015-02-01T04:00:00</td>\n",
       "      <td>99.0</td>\n",
       "      <td>4.0</td>\n",
       "      <td>HOURLY</td>\n",
       "    </tr>\n",
       "  </tbody>\n",
       "</table>\n",
       "</div>"
      ],
      "text/plain": [
       "   SENSOR_ID                 TIME  LANE  SUM RESOLUTION\n",
       "0   10000010  2015-02-01T00:00:00  99.0  5.0     HOURLY\n",
       "1   10000010  2015-02-01T01:00:00  99.0  2.0     HOURLY\n",
       "2   10000010  2015-02-01T02:00:00  99.0  6.0     HOURLY\n",
       "3   10000010  2015-02-01T03:00:00  99.0  5.0     HOURLY\n",
       "4   10000010  2015-02-01T04:00:00  99.0  4.0     HOURLY"
      ]
     },
     "execution_count": 5,
     "metadata": {},
     "output_type": "execute_result"
    }
   ],
   "source": [
    "cycle_data = pd.read_csv('cycle_feb2015_feb2016.csv',sep=',')\n",
    "print(\"Rows in cycle data \",len(cycle_data))\n",
    "cycle_data.head()"
   ]
  },
  {
   "cell_type": "code",
   "execution_count": 6,
   "metadata": {
    "collapsed": false
   },
   "outputs": [
    {
     "name": "stdout",
     "output_type": "stream",
     "text": [
      "Rows in the met data  8784\n"
     ]
    },
    {
     "data": {
      "text/html": [
       "<div>\n",
       "<table border=\"1\" class=\"dataframe\">\n",
       "  <thead>\n",
       "    <tr style=\"text-align: right;\">\n",
       "      <th></th>\n",
       "      <th>St.no</th>\n",
       "      <th>Year</th>\n",
       "      <th>Mnth</th>\n",
       "      <th>Date</th>\n",
       "      <th>Time</th>\n",
       "      <th>DirectionDeg</th>\n",
       "      <th>Speedmps</th>\n",
       "      <th>TempC</th>\n",
       "      <th>Pptmm</th>\n",
       "      <th>Humidpercen</th>\n",
       "      <th>Snowdepthcm</th>\n",
       "    </tr>\n",
       "  </thead>\n",
       "  <tbody>\n",
       "    <tr>\n",
       "      <th>0</th>\n",
       "      <td>18700</td>\n",
       "      <td>2015</td>\n",
       "      <td>2</td>\n",
       "      <td>1</td>\n",
       "      <td>1</td>\n",
       "      <td>7</td>\n",
       "      <td>5.8</td>\n",
       "      <td>-1.0</td>\n",
       "      <td>0.0</td>\n",
       "      <td>75</td>\n",
       "      <td></td>\n",
       "    </tr>\n",
       "    <tr>\n",
       "      <th>1</th>\n",
       "      <td>18700</td>\n",
       "      <td>2015</td>\n",
       "      <td>2</td>\n",
       "      <td>1</td>\n",
       "      <td>2</td>\n",
       "      <td>6</td>\n",
       "      <td>6.2</td>\n",
       "      <td>-1.3</td>\n",
       "      <td>0.0</td>\n",
       "      <td>77</td>\n",
       "      <td></td>\n",
       "    </tr>\n",
       "    <tr>\n",
       "      <th>2</th>\n",
       "      <td>18700</td>\n",
       "      <td>2015</td>\n",
       "      <td>2</td>\n",
       "      <td>1</td>\n",
       "      <td>3</td>\n",
       "      <td>12</td>\n",
       "      <td>6.5</td>\n",
       "      <td>-1.5</td>\n",
       "      <td>0.1</td>\n",
       "      <td>79</td>\n",
       "      <td></td>\n",
       "    </tr>\n",
       "    <tr>\n",
       "      <th>3</th>\n",
       "      <td>18700</td>\n",
       "      <td>2015</td>\n",
       "      <td>2</td>\n",
       "      <td>1</td>\n",
       "      <td>4</td>\n",
       "      <td>7</td>\n",
       "      <td>5.9</td>\n",
       "      <td>-1.5</td>\n",
       "      <td>0.0</td>\n",
       "      <td>76</td>\n",
       "      <td></td>\n",
       "    </tr>\n",
       "    <tr>\n",
       "      <th>4</th>\n",
       "      <td>18700</td>\n",
       "      <td>2015</td>\n",
       "      <td>2</td>\n",
       "      <td>1</td>\n",
       "      <td>5</td>\n",
       "      <td>5</td>\n",
       "      <td>6.3</td>\n",
       "      <td>-1.7</td>\n",
       "      <td>0.0</td>\n",
       "      <td>77</td>\n",
       "      <td></td>\n",
       "    </tr>\n",
       "  </tbody>\n",
       "</table>\n",
       "</div>"
      ],
      "text/plain": [
       "   St.no  Year  Mnth  Date  Time  DirectionDeg  Speedmps  TempC  Pptmm  \\\n",
       "0  18700  2015     2     1     1             7       5.8   -1.0    0.0   \n",
       "1  18700  2015     2     1     2             6       6.2   -1.3    0.0   \n",
       "2  18700  2015     2     1     3            12       6.5   -1.5    0.1   \n",
       "3  18700  2015     2     1     4             7       5.9   -1.5    0.0   \n",
       "4  18700  2015     2     1     5             5       6.3   -1.7    0.0   \n",
       "\n",
       "   Humidpercen Snowdepthcm  \n",
       "0           75              \n",
       "1           77              \n",
       "2           79              \n",
       "3           76              \n",
       "4           77              "
      ]
     },
     "execution_count": 6,
     "metadata": {},
     "output_type": "execute_result"
    }
   ],
   "source": [
    "weather_data = pd.read_csv('Oslo_Blindern_Weather.csv',sep=';')\n",
    "print(\"Rows in the met data \",len(weather_data))\n",
    "weather_data.head()"
   ]
  },
  {
   "cell_type": "code",
   "execution_count": 7,
   "metadata": {
    "collapsed": false
   },
   "outputs": [],
   "source": [
    "#Looking at the data we realized that location of only 74 sensors is available. We convert the coordinates of these\n",
    "#sensors from UTM to lat-lon for plotting their location later in this notebook.\n",
    "latitude_UTM=location_data['LATITUDE'].values[0:74]\n",
    "longitude_UTM=location_data['LONGITUDE'].values[0:74]\n",
    "lats = []\n",
    "lons = []\n",
    "import utm\n",
    "for i in range(len(latitude_UTM)):\n",
    "    temp_lats,temp_lons=utm.to_latlon(longitude_UTM[i], latitude_UTM[i], 33, 'U')\n",
    "    lats.append(temp_lats),lons.append(temp_lons)\n",
    "labels=location_data['SENSOR_ID'].values[0:74]"
   ]
  },
  {
   "cell_type": "code",
   "execution_count": 8,
   "metadata": {
    "collapsed": false
   },
   "outputs": [
    {
     "name": "stdout",
     "output_type": "stream",
     "text": [
      "Sensor id  10000010 [] Rows  9506\n",
      "Sensor id  10000210 [] Rows  26283\n",
      "Sensor id  10000480 [] Rows  26283\n",
      "Sensor id  10000790 [] Rows  26283\n"
     ]
    }
   ],
   "source": [
    "for sensor_id in list(cycle_data['SENSOR_ID'].unique()):\n",
    "    missing=cycle_data[cycle_data.SENSOR_ID==sensor_id].isnull().values.any()\n",
    "    if missing==False:\n",
    "        print(\"Sensor id \",sensor_id, location_data[location_data.SENSOR_ID==sensor_id].SENSOR_NAVN.values,\n",
    "              \"Rows \",len(cycle_data[cycle_data.SENSOR_ID==sensor_id]))"
   ]
  },
  {
   "cell_type": "markdown",
   "metadata": {},
   "source": [
    "I then used google earth to extract the coordinates of these locations.\n",
    " * 10000010 (59°55'59.53\"N,  10°45'27.53\"E)\n",
    " * 10000210 (59°52'33.68\"N,  10°47'21.58\"E)\n",
    " * 10000480 (59°57'17.15\"N,  10°45'40.28\"E) \n",
    " * 10000790 (59°55'14.14\"N,  10°44'31.83\"E)"
   ]
  },
  {
   "cell_type": "markdown",
   "metadata": {},
   "source": [
    "Let us plot these cordinates"
   ]
  },
  {
   "cell_type": "code",
   "execution_count": 9,
   "metadata": {
    "collapsed": false
   },
   "outputs": [
    {
     "data": {
      "image/png": "[encoded data removed]",
      "text/plain": [
       "<matplotlib.figure.Figure at 0x7f3b27997e80>"
      ]
     },
     "metadata": {},
     "output_type": "display_data"
    }
   ],
   "source": [
    "lats.append(59+55/60+14/3600); lons.append(10+44/60+31/3600)\n",
    "lats.append(59+57/60+17/3600); lons.append(10+45/60+40/3600)\n",
    "lats.append(59+52/60+33/3600); lons.append(10+47/60+21/3600)\n",
    "lats.append(59+55/60+59/3600); lons.append(10+45/60+27/3600)\n",
    "\n",
    "labels=np.append(labels,'Ullevalsvn 19')\n",
    "labels=np.append(labels,'Maridalsvn')\n",
    "labels=np.append(labels,'Ekebergvn')\n",
    "labels=np.append(labels,'Akerselva')\n",
    "\n",
    "from mpl_toolkits.basemap import Basemap\n",
    "import matplotlib.pyplot as plt\n",
    "map = Basemap(projection='merc',resolution = 'h', area_thresh = 0.1,\n",
    "              llcrnrlon=10.6, llcrnrlat=59.8,urcrnrlon=11, urcrnrlat=60)\n",
    "plt.figure(figsize=(16,16))\n",
    "map.drawcoastlines(linewidth=0.2,color='grey')\n",
    "map.drawcountries(linewidth=0.2,color='grey')\n",
    "map.drawmapboundary()\n",
    "#map.shadedrelief()\n",
    "map.bluemarble()\n",
    "x,y = map(lons, lats)\n",
    "map.plot(x, y, 'bo', markersize=7)\n",
    "x_offsets = 20*np.ones_like(lats)\n",
    "y_offsets = 400*np.ones_like(lats)\n",
    "for label, xpt, ypt, x_offset, y_offset in zip(labels, x, y, x_offsets, y_offsets):\n",
    "    plt.text(xpt+x_offset, ypt+y_offset, label)\n",
    "\n",
    "#plt.savefig('bessaker.pdf',bbox_inches='tight')\n",
    "plt.show()\n"
   ]
  },
  {
   "cell_type": "markdown",
   "metadata": {},
   "source": [
    "Clean and format the data"
   ]
  },
  {
   "cell_type": "code",
   "execution_count": 10,
   "metadata": {
    "collapsed": false
   },
   "outputs": [],
   "source": [
    "cycle_data['TIME'] =  pd.to_datetime(cycle_data['TIME'], format='%Y-%m-%dT%H:%M:%S.%f')\n",
    "cycle_data = cycle_data.drop([\"RESOLUTION\"],axis=1)"
   ]
  },
  {
   "cell_type": "code",
   "execution_count": 11,
   "metadata": {
    "collapsed": false
   },
   "outputs": [],
   "source": [
    "df2=pd.DataFrame(weather_data[['Year','Mnth','Date','Time']]).rename(columns={'Year': 'year', 'Mnth': 'month', 'Date':'day','Time':'Hour'})\n",
    "weather_data['TIME']=pd.to_datetime(df2)\n",
    "weather_data=weather_data.drop([\"Year\",\"Mnth\",\"Date\",\"Time\",\"Snowdepthcm\",\"DirectionDeg\"],axis=1)"
   ]
  },
  {
   "cell_type": "code",
   "execution_count": 12,
   "metadata": {
    "collapsed": true
   },
   "outputs": [],
   "source": [
    "df3=pd.DataFrame(car_data[['YEAR','MONTH','DAY','STARTHOUR']]).rename(columns={'YEAR': 'year', 'MONTH': 'month', 'DAY':'day','STARTHOUR':'Hour'})\n",
    "car_data['TIME']=pd.to_datetime(df3)\n",
    "car_data=car_data.drop([\"YEAR\",\"MONTH\",\"DAY\",\"STARTHOUR\",\"RESOLUTION\"],axis=1)"
   ]
  },
  {
   "cell_type": "code",
   "execution_count": 13,
   "metadata": {
    "collapsed": true
   },
   "outputs": [],
   "source": [
    "weather_data.rename(columns={'Speedmps':'WIND_MAG','Pptmm':\n",
    "                             'PPT','Humidpercen':'RH','TempC':'TEMP',\n",
    "                             'Snowdepthcm':'SNOW_DEPTH','St.no':'STATION_ID'}, inplace=True)"
   ]
  },
  {
   "cell_type": "markdown",
   "metadata": {},
   "source": [
    "Merge the car anc cycle data with the weather data"
   ]
  },
  {
   "cell_type": "code",
   "execution_count": 14,
   "metadata": {
    "collapsed": true
   },
   "outputs": [],
   "source": [
    "cycle_met = cycle_data.merge(weather_data,on=['TIME'])"
   ]
  },
  {
   "cell_type": "code",
   "execution_count": 15,
   "metadata": {
    "collapsed": false
   },
   "outputs": [],
   "source": [
    "car_met = car_data.merge(weather_data,on=['TIME'])"
   ]
  },
  {
   "cell_type": "code",
   "execution_count": 16,
   "metadata": {
    "collapsed": false
   },
   "outputs": [
    {
     "name": "stdout",
     "output_type": "stream",
     "text": [
      "Rows in cycling data combined with met  867985\n",
      "Rows in car data combined with met  101661\n"
     ]
    }
   ],
   "source": [
    "print(\"Rows in cycling data combined with met \",len(cycle_met))\n",
    "print(\"Rows in car data combined with met \",len(car_met))"
   ]
  },
  {
   "cell_type": "code",
   "execution_count": 17,
   "metadata": {
    "collapsed": false
   },
   "outputs": [],
   "source": [
    "import calendar\n",
    "cycle_met['WEEKDAY'] = cycle_met['TIME'].dt.weekday_name #Insert a column with weekday name\n",
    "cycle_met['MONTH'] = cycle_met['TIME'].dt.month #Insert a column with month number\n",
    "cycle_met['MONTH'] = cycle_met['MONTH'].apply(lambda x: calendar.month_abbr[x]) #Conver month no. to month name\n",
    "cycle_met['HOUR'] = cycle_met['TIME'].dt.hour #Insert a column with hour\n",
    "\n",
    "car_met['WEEKDAY'] = car_met['TIME'].dt.weekday_name\n",
    "car_met['MONTH'] = car_met['TIME'].dt.month\n",
    "car_met['MONTH'] = car_met['MONTH'].apply(lambda x: calendar.month_abbr[x])\n",
    "car_met['HOUR'] = car_met['TIME'].dt.hour"
   ]
  },
  {
   "cell_type": "code",
   "execution_count": 18,
   "metadata": {
    "collapsed": false
   },
   "outputs": [
    {
     "name": "stdout",
     "output_type": "stream",
     "text": [
      "Station id  10000010\n",
      "Station id  10000210\n",
      "Station id  10000480\n",
      "Station id  10000790\n"
     ]
    }
   ],
   "source": [
    "for sensor_id in list(cycle_met['SENSOR_ID'].unique()):\n",
    "    missing=cycle_met[cycle_met.SENSOR_ID==sensor_id].isnull().values.any()\n",
    "    if missing==False:\n",
    "        print(\"Station id \",sensor_id)"
   ]
  },
  {
   "cell_type": "markdown",
   "metadata": {},
   "source": [
    "The above are the only stations where no data is missing. let us retain only these sensor data."
   ]
  },
  {
   "cell_type": "code",
   "execution_count": 19,
   "metadata": {
    "collapsed": false
   },
   "outputs": [],
   "source": [
    "cycle_met_clean_data = cycle_met[(cycle_met.SENSOR_ID==10000210)| (cycle_met.SENSOR_ID==10000480) | (cycle_met.SENSOR_ID==10000790)]\n",
    "car_met_clean_data = car_met"
   ]
  },
  {
   "cell_type": "markdown",
   "metadata": {},
   "source": [
    "Write them to csv files"
   ]
  },
  {
   "cell_type": "code",
   "execution_count": 20,
   "metadata": {
    "collapsed": true
   },
   "outputs": [],
   "source": [
    "cycle_met_clean_data.to_csv('cycle_met.csv',sep=';',index=False)\n",
    "car_met_clean_data.to_csv('car_met.csv',sep=';',index=False)"
   ]
  }
 ],
 "metadata": {
  "kernelspec": {
   "display_name": "Python 3",
   "language": "python",
   "name": "python3"
  },
  "language_info": {
   "codemirror_mode": {
    "name": "ipython",
    "version": 3
   },
   "file_extension": ".py",
   "mimetype": "text/x-python",
   "name": "python",
   "nbconvert_exporter": "python",
   "pygments_lexer": "ipython3",
   "version": "3.6.0"
  }
 },
 "nbformat": 4,
 "nbformat_minor": 2
}
