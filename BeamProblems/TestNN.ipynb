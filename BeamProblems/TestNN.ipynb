{
 "cells": [
  {
   "cell_type": "code",
   "execution_count": 41,
   "metadata": {
    "collapsed": true
   },
   "outputs": [],
   "source": [
    "import numpy as np\n",
    "import matplotlib.pyplot as plt"
   ]
  },
  {
   "cell_type": "markdown",
   "metadata": {},
   "source": [
    "Create a cubic function $y=X^{3}$"
   ]
  },
  {
   "cell_type": "code",
   "execution_count": 42,
   "metadata": {
    "collapsed": true
   },
   "outputs": [],
   "source": [
    "X=np.linspace(start=0.5,stop=4,num=10000)\n",
    "y=np.power(X,3.0)\n",
    "X=X.reshape(-1,1)\n",
    "y=y.reshape(-1,1)"
   ]
  },
  {
   "cell_type": "markdown",
   "metadata": {},
   "source": [
    "We know that a linear regressor can never approximate a cubic function so we engineer a new feature $X^{3}$"
   ]
  },
  {
   "cell_type": "code",
   "execution_count": 43,
   "metadata": {},
   "outputs": [],
   "source": [
    "#X=np.column_stack([X,np.power(X,2.0)])"
   ]
  },
  {
   "cell_type": "code",
   "execution_count": 44,
   "metadata": {},
   "outputs": [
    {
     "data": {
      "text/plain": [
       "array([[ 0.5       ],\n",
       "       [ 0.50035004],\n",
       "       [ 0.50070007],\n",
       "       ..., \n",
       "       [ 3.99929993],\n",
       "       [ 3.99964996],\n",
       "       [ 4.        ]])"
      ]
     },
     "execution_count": 44,
     "metadata": {},
     "output_type": "execute_result"
    }
   ],
   "source": [
    "X"
   ]
  },
  {
   "cell_type": "code",
   "execution_count": 45,
   "metadata": {},
   "outputs": [
    {
     "data": {
      "image/png": "[encoded data removed]",
      "text/plain": [
       "<matplotlib.figure.Figure at 0x7f857a752cf8>"
      ]
     },
     "metadata": {},
     "output_type": "display_data"
    }
   ],
   "source": [
    "plt.plot(X[:,0],y)\n",
    "plt.show()"
   ]
  },
  {
   "cell_type": "code",
   "execution_count": 46,
   "metadata": {
    "collapsed": true
   },
   "outputs": [],
   "source": [
    "def LR(X_train,X_test,y_train,y_test):\n",
    "    from sklearn import linear_model\n",
    "    clf = linear_model.LinearRegression()\n",
    "    clf.fit(X_train, y_train)\n",
    "    print_error(predict(clf,X_train),predict(clf,X_test),y_train,y_test,'LR')\n",
    "    return clf"
   ]
  },
  {
   "cell_type": "code",
   "execution_count": 55,
   "metadata": {
    "collapsed": true
   },
   "outputs": [],
   "source": [
    "def ANN(X_train,X_test,y_train,y_test):\n",
    "    import keras\n",
    "    from keras.models import Sequential\n",
    "    from keras.layers import Dense\n",
    "    from keras.utils import np_utils\n",
    "    m,input_layer_size=X_test.shape\n",
    "    hidden_layer_size = input_layer_size   \n",
    "    clf = Sequential()\n",
    "    clf.add(Dense(units = 10, kernel_initializer = 'uniform', activation = 'relu', input_dim = input_layer_size))\n",
    "    clf.add(Dense(units = 10, kernel_initializer = 'uniform', activation = 'relu'))\n",
    "    clf.add(Dense(units = 1, kernel_initializer = 'normal'))\n",
    "    clf.compile(loss='mean_squared_error', optimizer='adam')\n",
    "    print(\"Shapes of y_test, y_prediction \",predict(clf,X_test).shape,y_test.shape)\n",
    "    history=clf.fit(X_train, y_train, batch_size = 1000, epochs = 1000,verbose=0)\n",
    "    print_error(predict(clf,X_train),predict(clf,X_test),y_train,y_test,'ANN')\n",
    "    return clf"
   ]
  },
  {
   "cell_type": "code",
   "execution_count": 56,
   "metadata": {
    "collapsed": true
   },
   "outputs": [],
   "source": [
    "def split_test_train_val(X,y):\n",
    "    from sklearn.model_selection import train_test_split\n",
    "    X_train, X_test, y_train, y_test =  train_test_split(X,y,test_size=0.1,random_state = 0)\n",
    "    X_test, X_val,y_test,y_val =  train_test_split(X_test,y_test,test_size=0.1,random_state = 0)\n",
    "    return X_train,X_test,X_val,y_train,y_test,y_val"
   ]
  },
  {
   "cell_type": "code",
   "execution_count": 57,
   "metadata": {
    "collapsed": true
   },
   "outputs": [],
   "source": [
    "def print_error(train,test,target_train,target_test,parameter):\n",
    "    print(\"Mean squared error on training set using \",parameter,np.mean((train-target_train)**2))\n",
    "    print(\"Mean squared error on test set using  \",parameter,np.mean((test-target_test)**2))"
   ]
  },
  {
   "cell_type": "code",
   "execution_count": 58,
   "metadata": {
    "collapsed": true
   },
   "outputs": [],
   "source": [
    "def plot_comparision(prediction,target,output):\n",
    "    from sklearn import linear_model\n",
    "    plt.plot(target,prediction,'.')\n",
    "    plt.plot([0,np.max(target)],[0,np.max(target)],color='k', linestyle='-')\n",
    "    plt.xlabel(\"Observation\")\n",
    "    plt.ylabel(\"Prediction\")\n",
    "    plt.savefig(output,bbox_inches='tight')\n",
    "    plt.show()"
   ]
  },
  {
   "cell_type": "code",
   "execution_count": 59,
   "metadata": {
    "collapsed": true
   },
   "outputs": [],
   "source": [
    "def predict(clf, input_features):\n",
    "    prediction=clf.predict(input_features).reshape(-1,1)\n",
    "    return prediction"
   ]
  },
  {
   "cell_type": "code",
   "execution_count": 60,
   "metadata": {
    "collapsed": true
   },
   "outputs": [],
   "source": [
    "X_train,X_test,X_val,y_train,y_test,y_val=split_test_train_val(X,y)"
   ]
  },
  {
   "cell_type": "code",
   "execution_count": 61,
   "metadata": {},
   "outputs": [
    {
     "name": "stdout",
     "output_type": "stream",
     "text": [
      "Mean squared error on training set using  LR 38.6785705028\n",
      "Mean squared error on test set using   LR 37.6818503571\n"
     ]
    },
    {
     "data": {
      "image/png": "[encoded data removed]",
      "text/plain": [
       "<matplotlib.figure.Figure at 0x7f857a823a20>"
      ]
     },
     "metadata": {},
     "output_type": "display_data"
    }
   ],
   "source": [
    "clf_LR=LR(X_train,X_test,y_train,y_test);\n",
    "plot_comparision(predict(clf_LR,X_test),y_test,'test.pdf')"
   ]
  },
  {
   "cell_type": "code",
   "execution_count": 62,
   "metadata": {},
   "outputs": [
    {
     "name": "stdout",
     "output_type": "stream",
     "text": [
      "Shapes of y_test, y_prediction  (900, 1) (900, 1)\n",
      "Mean squared error on training set using  ANN 0.0146137439238\n",
      "Mean squared error on test set using   ANN 0.0147186364605\n"
     ]
    },
    {
     "data": {
      "image/png": "[encoded data removed]",
      "text/plain": [
       "<matplotlib.figure.Figure at 0x7f8540567b00>"
      ]
     },
     "metadata": {},
     "output_type": "display_data"
    }
   ],
   "source": [
    "clf_ANN=ANN(X_train,X_test,y_train,y_test);\n",
    "plot_comparision(predict(clf_ANN,X_test),y_test,'test.pdf')"
   ]
  }
 ],
 "metadata": {
  "kernelspec": {
   "display_name": "Python 3",
   "language": "python",
   "name": "python3"
  },
  "language_info": {
   "codemirror_mode": {
    "name": "ipython",
    "version": 3
   },
   "file_extension": ".py",
   "mimetype": "text/x-python",
   "name": "python",
   "nbconvert_exporter": "python",
   "pygments_lexer": "ipython3",
   "version": "3.6.1"
  }
 },
 "nbformat": 4,
 "nbformat_minor": 2
}
