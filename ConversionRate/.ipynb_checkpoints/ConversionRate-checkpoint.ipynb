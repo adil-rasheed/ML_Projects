{
 "cells": [
  {
   "cell_type": "markdown",
   "metadata": {},
   "source": [
    "Problem description: We have data about users who hit our site: whether they converted or not as well as some of their characteristics such as their country, the marketing channel, their age, whether they are repeat users and the number of pages visited during that session (as a proxy for site activity/time spent on site). Our aim to is to come up with 1) Prediction of conversion rate 2) Come up with recommendations for ht eproduct team and the markerting team to improve conversion rate"
   ]
  },
  {
   "cell_type": "markdown",
   "metadata": {},
   "source": [
    "Some interesting sites:\n",
    "* https://www.dataquest.io/blog/matplotlib-tutorial/"
   ]
  },
  {
   "cell_type": "code",
   "execution_count": 357,
   "metadata": {
    "collapsed": true
   },
   "outputs": [],
   "source": [
    "# Import packages\n",
    "import pandas as pd\n",
    "import numpy as np\n",
    "import matplotlib.pyplot as plt\n",
    "from collections import Counter\n",
    "from sklearn.model_selection import train_test_split\n",
    "from sklearn import linear_model\n",
    "from sklearn.metrics import accuracy_score"
   ]
  },
  {
   "cell_type": "markdown",
   "metadata": {},
   "source": [
    "Step 1: Let us load the data and have a brief look at it."
   ]
  },
  {
   "cell_type": "code",
   "execution_count": 358,
   "metadata": {},
   "outputs": [
    {
     "data": {
      "text/html": [
       "<div>\n",
       "<style>\n",
       "    .dataframe thead tr:only-child th {\n",
       "        text-align: right;\n",
       "    }\n",
       "\n",
       "    .dataframe thead th {\n",
       "        text-align: left;\n",
       "    }\n",
       "\n",
       "    .dataframe tbody tr th {\n",
       "        vertical-align: top;\n",
       "    }\n",
       "</style>\n",
       "<table border=\"1\" class=\"dataframe\">\n",
       "  <thead>\n",
       "    <tr style=\"text-align: right;\">\n",
       "      <th></th>\n",
       "      <th>country</th>\n",
       "      <th>age</th>\n",
       "      <th>new_user</th>\n",
       "      <th>source</th>\n",
       "      <th>total_pages_visited</th>\n",
       "      <th>converted</th>\n",
       "    </tr>\n",
       "  </thead>\n",
       "  <tbody>\n",
       "    <tr>\n",
       "      <th>0</th>\n",
       "      <td>UK</td>\n",
       "      <td>25</td>\n",
       "      <td>1</td>\n",
       "      <td>Ads</td>\n",
       "      <td>1</td>\n",
       "      <td>0</td>\n",
       "    </tr>\n",
       "    <tr>\n",
       "      <th>1</th>\n",
       "      <td>US</td>\n",
       "      <td>23</td>\n",
       "      <td>1</td>\n",
       "      <td>Seo</td>\n",
       "      <td>5</td>\n",
       "      <td>0</td>\n",
       "    </tr>\n",
       "    <tr>\n",
       "      <th>2</th>\n",
       "      <td>US</td>\n",
       "      <td>28</td>\n",
       "      <td>1</td>\n",
       "      <td>Seo</td>\n",
       "      <td>4</td>\n",
       "      <td>0</td>\n",
       "    </tr>\n",
       "    <tr>\n",
       "      <th>3</th>\n",
       "      <td>China</td>\n",
       "      <td>39</td>\n",
       "      <td>1</td>\n",
       "      <td>Seo</td>\n",
       "      <td>5</td>\n",
       "      <td>0</td>\n",
       "    </tr>\n",
       "    <tr>\n",
       "      <th>4</th>\n",
       "      <td>US</td>\n",
       "      <td>30</td>\n",
       "      <td>1</td>\n",
       "      <td>Seo</td>\n",
       "      <td>6</td>\n",
       "      <td>0</td>\n",
       "    </tr>\n",
       "  </tbody>\n",
       "</table>\n",
       "</div>"
      ],
      "text/plain": [
       "  country  age  new_user source  total_pages_visited  converted\n",
       "0      UK   25         1    Ads                    1          0\n",
       "1      US   23         1    Seo                    5          0\n",
       "2      US   28         1    Seo                    4          0\n",
       "3   China   39         1    Seo                    5          0\n",
       "4      US   30         1    Seo                    6          0"
      ]
     },
     "execution_count": 358,
     "metadata": {},
     "output_type": "execute_result"
    }
   ],
   "source": [
    "conversion_data=pd.read_csv('conversion_data.csv',sep=',')\n",
    "conversion_data.head()"
   ]
  },
  {
   "cell_type": "code",
   "execution_count": 359,
   "metadata": {},
   "outputs": [
    {
     "name": "stdout",
     "output_type": "stream",
     "text": [
      "UK 48450\n",
      "US 178092\n",
      "China 76602\n",
      "Germany 13056\n"
     ]
    },
    {
     "data": {
      "text/plain": [
       "0       UK\n",
       "1       US\n",
       "2       US\n",
       "3    China\n",
       "4       US\n",
       "Name: country, dtype: object"
      ]
     },
     "execution_count": 359,
     "metadata": {},
     "output_type": "execute_result"
    }
   ],
   "source": [
    "visitor_by_countries=conversion_data['country']\n",
    "for countries in visitor_by_countries.unique():\n",
    "    print(countries,conversion_data[visitor_by_countries==countries].count().country)\n",
    "#buyers_by_countries=visitor_by_countries[visitor_by_countries['converted']==1]\n",
    "visitor_by_countries.head()"
   ]
  },
  {
   "cell_type": "markdown",
   "metadata": {},
   "source": [
    "Get some insight into the data"
   ]
  },
  {
   "cell_type": "markdown",
   "metadata": {},
   "source": [
    "Columns:\n",
    "* country : user country based on the IP address\n",
    "* age : user age. Self-reported at sign-in step\n",
    "* new_user : whether the user created the account during this session or had already an account and simply came back to the site\n",
    "* source : marketing channel source\n",
    " * Ads: came to the site by clicking on an advertisement \n",
    " * Seo: came to the site by clicking on search results\n",
    " * Direct: came to the site by directly typing the URL on the browser\n",
    "* total_pages_visited: number of total pages visited during the session. This is a proxy for time spent on site and engagement during the session.\n",
    "* converted: this is our label. 1 means they converted within the session, 0 means they left without buying anything. The company goal is to increase conversion rate: # conversions / total sessions.\n",
    "    "
   ]
  },
  {
   "cell_type": "code",
   "execution_count": 360,
   "metadata": {},
   "outputs": [
    {
     "data": {
      "image/png": "[encoded data removed]",
      "text/plain": [
       "<matplotlib.figure.Figure at 0x25a3196ecc0>"
      ]
     },
     "metadata": {},
     "output_type": "display_data"
    },
    {
     "data": {
      "image/png": "[encoded data removed]",
      "text/plain": [
       "<matplotlib.figure.Figure at 0x1a5d2382a90>"
      ]
     },
     "metadata": {},
     "output_type": "display_data"
    }
   ],
   "source": [
    "#Stats about visits that converted into purchases\n",
    "a=(conversion_data[conversion_data['converted']==1])\n",
    "pd.DataFrame.hist(a,column=[\"age\",\"total_pages_visited\"],figsize=(16,6))\n",
    "fig, axes = plt.subplots(nrows=1, ncols=2,figsize=(16,6))\n",
    "pd.DataFrame.from_dict(Counter(a.country), orient='index').plot(kind='bar',ax=axes[0])\n",
    "pd.DataFrame.from_dict(Counter(a.source), orient='index').plot(kind='bar',ax=axes[1])\n",
    "plt.show()"
   ]
  },
  {
   "cell_type": "markdown",
   "metadata": {},
   "source": [
    "Conclusions about visitors who bought something\n",
    "* Most of the buyers are between 20-40 years of age\n",
    "* Most of the buyers visit 12-17 pages. Perhaps they are interested in some other items too.\n",
    "* Most of the customers are from USA followed by UK, Germany and China (Perhaps language is a barrier)\n",
    "* Most of the serious buyers visit the website through online searches."
   ]
  },
  {
   "cell_type": "code",
   "execution_count": 361,
   "metadata": {},
   "outputs": [
    {
     "data": {
      "image/png": "[encoded data removed]",
      "text/plain": [
       "<matplotlib.figure.Figure at 0x1a5d24f5dd8>"
      ]
     },
     "metadata": {},
     "output_type": "display_data"
    },
    {
     "data": {
      "image/png": "[encoded data removed]",
      "text/plain": [
       "<matplotlib.figure.Figure at 0x1a5d22c9198>"
      ]
     },
     "metadata": {},
     "output_type": "display_data"
    }
   ],
   "source": [
    "#Stats about visits that didn't convert into purchases\n",
    "b=(conversion_data[conversion_data['converted']==0])\n",
    "pd.DataFrame.hist(b,column=[\"age\",\"total_pages_visited\"],figsize=(16,6))\n",
    "fig, axes = plt.subplots(nrows=1, ncols=2,figsize=(16,6))\n",
    "pd.DataFrame.from_dict(Counter(b.country), orient='index').plot(kind='bar',ax=axes[0])\n",
    "pd.DataFrame.from_dict(Counter(b.source), orient='index').plot(kind='bar',ax=axes[1])\n",
    "plt.show()"
   ]
  },
  {
   "cell_type": "code",
   "execution_count": 362,
   "metadata": {},
   "outputs": [
    {
     "name": "stdout",
     "output_type": "stream",
     "text": [
      "China 0.13315579227696406\n",
      "Germany 6.25\n",
      "UK 5.263157894736842\n",
      "US 3.7800687285223367\n"
     ]
    }
   ],
   "source": [
    "buyers_by_countries    = pd.DataFrame.from_dict(Counter(a.country), orient='index').reset_index()\n",
    "nonbuyers_by_countries = pd.DataFrame.from_dict(Counter(b.country), orient='index').reset_index()\n",
    "buyers_by_countries = buyers_by_countries.sort_values(by=\"index\",ascending=True)\n",
    "nonbuyers_by_countries = nonbuyers_by_countries.sort_values(by=\"index\",ascending=True)\n",
    "buyers_by_countries = buyers_by_countries.values\n",
    "nonbuyers_by_countries = nonbuyers_by_countries.values\n",
    "#print(\"Number of buyers from different countries\",buyers_by_countries)\n",
    "#print(\"Number of non buyers from different countries\", nonbuyers_by_countries)\n",
    "buyers_by_percentage=buyers_by_countries[:,1]/(buyers_by_countries[:,1]+nonbuyers_by_countries[:,1])*100\n",
    "for i in range(len(buyers_by_percentage)):\n",
    "    print(buyers_by_countries[i,0],buyers_by_percentage[i])"
   ]
  },
  {
   "cell_type": "markdown",
   "metadata": {},
   "source": [
    "Conver the categorical data into numerical vlaues"
   ]
  },
  {
   "cell_type": "code",
   "execution_count": 363,
   "metadata": {},
   "outputs": [
    {
     "data": {
      "text/html": [
       "<div>\n",
       "<style>\n",
       "    .dataframe thead tr:only-child th {\n",
       "        text-align: right;\n",
       "    }\n",
       "\n",
       "    .dataframe thead th {\n",
       "        text-align: left;\n",
       "    }\n",
       "\n",
       "    .dataframe tbody tr th {\n",
       "        vertical-align: top;\n",
       "    }\n",
       "</style>\n",
       "<table border=\"1\" class=\"dataframe\">\n",
       "  <thead>\n",
       "    <tr style=\"text-align: right;\">\n",
       "      <th></th>\n",
       "      <th>country</th>\n",
       "      <th>age</th>\n",
       "      <th>new_user</th>\n",
       "      <th>source</th>\n",
       "      <th>total_pages_visited</th>\n",
       "      <th>converted</th>\n",
       "      <th>country_code</th>\n",
       "      <th>source_code</th>\n",
       "    </tr>\n",
       "  </thead>\n",
       "  <tbody>\n",
       "    <tr>\n",
       "      <th>0</th>\n",
       "      <td>UK</td>\n",
       "      <td>25</td>\n",
       "      <td>1</td>\n",
       "      <td>Ads</td>\n",
       "      <td>1</td>\n",
       "      <td>0</td>\n",
       "      <td>2</td>\n",
       "      <td>0</td>\n",
       "    </tr>\n",
       "    <tr>\n",
       "      <th>1</th>\n",
       "      <td>US</td>\n",
       "      <td>23</td>\n",
       "      <td>1</td>\n",
       "      <td>Seo</td>\n",
       "      <td>5</td>\n",
       "      <td>0</td>\n",
       "      <td>3</td>\n",
       "      <td>2</td>\n",
       "    </tr>\n",
       "    <tr>\n",
       "      <th>2</th>\n",
       "      <td>US</td>\n",
       "      <td>28</td>\n",
       "      <td>1</td>\n",
       "      <td>Seo</td>\n",
       "      <td>4</td>\n",
       "      <td>0</td>\n",
       "      <td>3</td>\n",
       "      <td>2</td>\n",
       "    </tr>\n",
       "    <tr>\n",
       "      <th>3</th>\n",
       "      <td>China</td>\n",
       "      <td>39</td>\n",
       "      <td>1</td>\n",
       "      <td>Seo</td>\n",
       "      <td>5</td>\n",
       "      <td>0</td>\n",
       "      <td>0</td>\n",
       "      <td>2</td>\n",
       "    </tr>\n",
       "    <tr>\n",
       "      <th>4</th>\n",
       "      <td>US</td>\n",
       "      <td>30</td>\n",
       "      <td>1</td>\n",
       "      <td>Seo</td>\n",
       "      <td>6</td>\n",
       "      <td>0</td>\n",
       "      <td>3</td>\n",
       "      <td>2</td>\n",
       "    </tr>\n",
       "  </tbody>\n",
       "</table>\n",
       "</div>"
      ],
      "text/plain": [
       "  country  age  new_user source  total_pages_visited  converted  country_code  \\\n",
       "0      UK   25         1    Ads                    1          0             2   \n",
       "1      US   23         1    Seo                    5          0             3   \n",
       "2      US   28         1    Seo                    4          0             3   \n",
       "3   China   39         1    Seo                    5          0             0   \n",
       "4      US   30         1    Seo                    6          0             3   \n",
       "\n",
       "   source_code  \n",
       "0            0  \n",
       "1            2  \n",
       "2            2  \n",
       "3            2  \n",
       "4            2  "
      ]
     },
     "execution_count": 363,
     "metadata": {},
     "output_type": "execute_result"
    }
   ],
   "source": [
    "conversion_data['country_code'] = pd.Categorical(conversion_data[\"country\"]).codes\n",
    "conversion_data['source_code'] = pd.Categorical(conversion_data[\"source\"]).codes\n",
    "conversion_data.head()"
   ]
  },
  {
   "cell_type": "markdown",
   "metadata": {},
   "source": [
    "One hot encoding"
   ]
  },
  {
   "cell_type": "code",
   "execution_count": 364,
   "metadata": {},
   "outputs": [],
   "source": [
    "conversion_data= pd.get_dummies(conversion_data,columns=[\"country_code\",\"source_code\",\"new_user\"],prefix=[\"cc\",\"sc\",\"nu\"])"
   ]
  },
  {
   "cell_type": "code",
   "execution_count": 365,
   "metadata": {},
   "outputs": [
    {
     "data": {
      "text/html": [
       "<div>\n",
       "<style>\n",
       "    .dataframe thead tr:only-child th {\n",
       "        text-align: right;\n",
       "    }\n",
       "\n",
       "    .dataframe thead th {\n",
       "        text-align: left;\n",
       "    }\n",
       "\n",
       "    .dataframe tbody tr th {\n",
       "        vertical-align: top;\n",
       "    }\n",
       "</style>\n",
       "<table border=\"1\" class=\"dataframe\">\n",
       "  <thead>\n",
       "    <tr style=\"text-align: right;\">\n",
       "      <th></th>\n",
       "      <th>age</th>\n",
       "      <th>total_pages_visited</th>\n",
       "      <th>converted</th>\n",
       "      <th>cc_0</th>\n",
       "      <th>cc_1</th>\n",
       "      <th>cc_2</th>\n",
       "      <th>cc_3</th>\n",
       "      <th>sc_0</th>\n",
       "      <th>sc_1</th>\n",
       "      <th>sc_2</th>\n",
       "      <th>nu_0</th>\n",
       "      <th>nu_1</th>\n",
       "    </tr>\n",
       "  </thead>\n",
       "  <tbody>\n",
       "    <tr>\n",
       "      <th>0</th>\n",
       "      <td>25</td>\n",
       "      <td>1</td>\n",
       "      <td>0</td>\n",
       "      <td>0</td>\n",
       "      <td>0</td>\n",
       "      <td>1</td>\n",
       "      <td>0</td>\n",
       "      <td>1</td>\n",
       "      <td>0</td>\n",
       "      <td>0</td>\n",
       "      <td>0</td>\n",
       "      <td>1</td>\n",
       "    </tr>\n",
       "    <tr>\n",
       "      <th>1</th>\n",
       "      <td>23</td>\n",
       "      <td>5</td>\n",
       "      <td>0</td>\n",
       "      <td>0</td>\n",
       "      <td>0</td>\n",
       "      <td>0</td>\n",
       "      <td>1</td>\n",
       "      <td>0</td>\n",
       "      <td>0</td>\n",
       "      <td>1</td>\n",
       "      <td>0</td>\n",
       "      <td>1</td>\n",
       "    </tr>\n",
       "    <tr>\n",
       "      <th>2</th>\n",
       "      <td>28</td>\n",
       "      <td>4</td>\n",
       "      <td>0</td>\n",
       "      <td>0</td>\n",
       "      <td>0</td>\n",
       "      <td>0</td>\n",
       "      <td>1</td>\n",
       "      <td>0</td>\n",
       "      <td>0</td>\n",
       "      <td>1</td>\n",
       "      <td>0</td>\n",
       "      <td>1</td>\n",
       "    </tr>\n",
       "    <tr>\n",
       "      <th>3</th>\n",
       "      <td>39</td>\n",
       "      <td>5</td>\n",
       "      <td>0</td>\n",
       "      <td>1</td>\n",
       "      <td>0</td>\n",
       "      <td>0</td>\n",
       "      <td>0</td>\n",
       "      <td>0</td>\n",
       "      <td>0</td>\n",
       "      <td>1</td>\n",
       "      <td>0</td>\n",
       "      <td>1</td>\n",
       "    </tr>\n",
       "    <tr>\n",
       "      <th>4</th>\n",
       "      <td>30</td>\n",
       "      <td>6</td>\n",
       "      <td>0</td>\n",
       "      <td>0</td>\n",
       "      <td>0</td>\n",
       "      <td>0</td>\n",
       "      <td>1</td>\n",
       "      <td>0</td>\n",
       "      <td>0</td>\n",
       "      <td>1</td>\n",
       "      <td>0</td>\n",
       "      <td>1</td>\n",
       "    </tr>\n",
       "  </tbody>\n",
       "</table>\n",
       "</div>"
      ],
      "text/plain": [
       "   age  total_pages_visited  converted  cc_0  cc_1  cc_2  cc_3  sc_0  sc_1  \\\n",
       "0   25                    1          0     0     0     1     0     1     0   \n",
       "1   23                    5          0     0     0     0     1     0     0   \n",
       "2   28                    4          0     0     0     0     1     0     0   \n",
       "3   39                    5          0     1     0     0     0     0     0   \n",
       "4   30                    6          0     0     0     0     1     0     0   \n",
       "\n",
       "   sc_2  nu_0  nu_1  \n",
       "0     0     0     1  \n",
       "1     1     0     1  \n",
       "2     1     0     1  \n",
       "3     1     0     1  \n",
       "4     1     0     1  "
      ]
     },
     "execution_count": 365,
     "metadata": {},
     "output_type": "execute_result"
    }
   ],
   "source": [
    "conversion_data.head()\n",
    "conversion_data = conversion_data.drop([\"country\",\"source\"],axis=1)\n",
    "conversion_data.head()"
   ]
  },
  {
   "cell_type": "code",
   "execution_count": 366,
   "metadata": {
    "collapsed": true
   },
   "outputs": [],
   "source": [
    "y=conversion_data['converted']\n",
    "X=conversion_data.drop([\"converted\"],axis=1).values"
   ]
  },
  {
   "cell_type": "code",
   "execution_count": 367,
   "metadata": {},
   "outputs": [],
   "source": [
    "#Split the data into training and validation test\n",
    "X_train, X_val, y_train, y_val =  train_test_split(X,y,test_size=0.2,random_state = 0)"
   ]
  },
  {
   "cell_type": "code",
   "execution_count": 368,
   "metadata": {},
   "outputs": [
    {
     "name": "stdout",
     "output_type": "stream",
     "text": [
      "Accuracy on the training set 0.986211258697\n",
      "Accuracy on the test set 0.985910815939\n"
     ]
    }
   ],
   "source": [
    "lambda_=1e-5\n",
    "logreg = linear_model.LogisticRegression(C=1/lambda_)\n",
    "logreg.fit(X_train, y_train)\n",
    "predictions=logreg.predict(X_train)\n",
    "print('Accuracy on the training set', accuracy_score(y_train, predictions))\n",
    "print('Accuracy on the test set', accuracy_score(y_val,logreg.predict(X_val)))"
   ]
  },
  {
   "cell_type": "code",
   "execution_count": 369,
   "metadata": {},
   "outputs": [
    {
     "name": "stdout",
     "output_type": "stream",
     "text": [
      "Epoch 1/5\n",
      "252960/252960 [==============================] - 3s - loss: 0.0903 - acc: 0.9758     \n",
      "Epoch 2/5\n",
      "252960/252960 [==============================] - 2s - loss: 0.0440 - acc: 0.9852     - ETA: 0s - loss: 0.0440 - acc: 0.985\n",
      "Epoch 3/5\n",
      "252960/252960 [==============================] - 2s - loss: 0.0415 - acc: 0.9860     \n",
      "Epoch 4/5\n",
      "252960/252960 [==============================] - 2s - loss: 0.0412 - acc: 0.9861     \n",
      "Epoch 5/5\n",
      "252960/252960 [==============================] - 2s - loss: 0.0411 - acc: 0.9860     \n"
     ]
    }
   ],
   "source": [
    "import keras\n",
    "from keras.models import Sequential\n",
    "from keras.layers import Dense\n",
    "from keras.utils import np_utils\n",
    "m,input_layer_size =X_train.shape\n",
    "num_labels = 2\n",
    "#One hot encoding\n",
    "y = np_utils.to_categorical(y_train)\n",
    "ANN_classifier = Sequential()\n",
    "ANN_classifier.add(Dense(units = 6, kernel_initializer = 'uniform', activation = 'relu', input_dim = input_layer_size))\n",
    "ANN_classifier.add(Dense(units = 6, kernel_initializer = 'uniform', activation = 'relu'))\n",
    "ANN_classifier.add(Dense(units = num_labels, kernel_initializer = 'uniform', activation = 'softmax'))\n",
    "ANN_classifier.compile(optimizer = 'adam', loss = 'categorical_crossentropy', metrics = ['accuracy'])\n",
    "history=ANN_classifier.fit(X_train, y, batch_size = 100, epochs = 5)"
   ]
  },
  {
   "cell_type": "code",
   "execution_count": 370,
   "metadata": {},
   "outputs": [
    {
     "name": "stdout",
     "output_type": "stream",
     "text": [
      "Accuracy on the training set 0.986215211891\n",
      "Accuracy on the test set 0.985673624288\n"
     ]
    }
   ],
   "source": [
    "print('Accuracy on the training set', accuracy_score(y_train,np.argmax(ANN_classifier.predict(X_train),axis=1)))\n",
    "print('Accuracy on the test set', accuracy_score(y_val,np.argmax(ANN_classifier.predict(X_val),axis=1)))"
   ]
  },
  {
   "cell_type": "code",
   "execution_count": null,
   "metadata": {
    "collapsed": true
   },
   "outputs": [],
   "source": []
  }
 ],
 "metadata": {
  "kernelspec": {
   "display_name": "Python 3",
   "language": "python",
   "name": "python3"
  },
  "language_info": {
   "codemirror_mode": {
    "name": "ipython",
    "version": 3
   },
   "file_extension": ".py",
   "mimetype": "text/x-python",
   "name": "python",
   "nbconvert_exporter": "python",
   "pygments_lexer": "ipython3",
   "version": "3.6.1"
  }
 },
 "nbformat": 4,
 "nbformat_minor": 2
}
